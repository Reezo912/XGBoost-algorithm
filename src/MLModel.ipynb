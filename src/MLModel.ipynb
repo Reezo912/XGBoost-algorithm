{
 "cells": [
  {
   "cell_type": "markdown",
   "metadata": {},
   "source": [
    "# XGBoost"
   ]
  },
  {
   "cell_type": "code",
   "execution_count": 7,
   "metadata": {},
   "outputs": [],
   "source": [
    "import os\n",
    "import pandas as pd\n",
    "import numpy as np\n",
    "import matplotlib.pyplot as plt\n",
    "import xgboost as xgb\n",
    "from sklearn.metrics import accuracy_score\n",
    "import cupy as cp"
   ]
  },
  {
   "cell_type": "code",
   "execution_count": 8,
   "metadata": {},
   "outputs": [],
   "source": [
    "X_train = pd.read_excel('../data/processed/X_train_sin_outliers_raw.xlsx')\n",
    "X_test = pd.read_excel('../data/processed/X_test_sin_outliers_raw.xlsx')\n",
    "\n",
    "y_train = pd.read_excel('../data/processed/y_train.xlsx')\n",
    "y_test = pd.read_excel('../data/processed/y_test.xlsx')"
   ]
  },
  {
   "cell_type": "code",
   "execution_count": null,
   "metadata": {},
   "outputs": [],
   "source": [
    "### Este codigo sirve para evitar el error de datos en CPU/GPU\n",
    "\n",
    "# # Para evitar la advertencia, convierte X_test a GPU y usa inplace_predict:\n",
    "# X_test_gpu = cp.array(X_test.values)         # Convierte los datos a un array de CuPy\n",
    "# dtest_gpu = xgb.DMatrix(X_test_gpu)            # Crea un DMatrix con los datos en GPU\n",
    "# booster = model_untrained.get_booster()        # Obtén el booster subyacente\n",
    "# y_pred_test_gpu = booster.inplace_predict(dtest_gpu)  # Predicción en GPU\n",
    "\n",
    "# # Convertir las predicciones (si es necesario) y evaluar\n",
    "# y_pred_test_gpu_bin = [1 if pred >= 0.5 else 0 for pred in y_pred_test_gpu]\n",
    "# print('Test accuracy (inplace_predict): {0:0.4f}'.format(accuracy_score(y_test, y_pred_test_gpu_bin)))"
   ]
  },
  {
   "cell_type": "code",
   "execution_count": 9,
   "metadata": {},
   "outputs": [
    {
     "name": "stdout",
     "output_type": "stream",
     "text": [
      "Train accuracy score: 1.0000\n",
      "Test accuracy score: 0.8961\n"
     ]
    }
   ],
   "source": [
    "model_untrained = xgb.XGBClassifier(seed=42, objective='binary:logistic', tree_method='hist', device='cuda')\n",
    "\n",
    "model_untrained.fit(X_train, y_train)\n",
    "y_pred_train = model_untrained.predict(X_train)\n",
    "y_pred_test = model_untrained.predict(X_test)\n",
    "\n",
    "print('Train accuracy score: {0:0.4f}'. format(accuracy_score(y_train, y_pred_train)))\n",
    "print('Test accuracy score: {0:0.4f}'. format(accuracy_score(y_test, y_pred_test)))"
   ]
  },
  {
   "cell_type": "code",
   "execution_count": null,
   "metadata": {},
   "outputs": [],
   "source": [
    "param_grid = {\n",
    "    'objective': ['binary:logistic'],\n",
    "    'eval_metric': ['error'],\n",
    "    'learning_rate': [0.05, 0.1],            # Reduje las opciones\n",
    "    'max_depth': [3, 5],                     # Reduje a dos valores\n",
    "    'min_child_weight': [1, 3],              # Reduje a dos opciones\n",
    "    'gamma': [0, 0.1],                       # Menos opciones\n",
    "    'subsample': [0.8, 1.0],                 # Reduje a dos opciones\n",
    "    'colsample_bytree': [0.8, 1.0],          # Reduje a dos opciones\n",
    "    'reg_alpha': [0, 0.001],                 # Menos opciones\n",
    "    'reg_lambda': [1],                       # Fijado a un valor, ya que el 1 suele ser un buen punto de partida\n",
    "    'seed': [42]                           # Para reproducibilidad\n",
    "}"
   ]
  },
  {
   "cell_type": "code",
   "execution_count": 11,
   "metadata": {},
   "outputs": [
    {
     "name": "stdout",
     "output_type": "stream",
     "text": [
      "Mejores parámetros: {'colsample_bytree': 0.8, 'eval_metric': 'error', 'gamma': 0, 'learning_rate': 0.1, 'max_depth': 3, 'min_child_weight': 3, 'objective': 'binary:logistic', 'reg_alpha': 0.001, 'reg_lambda': 1, 'seed': 42, 'subsample': 0.8}\n",
      "Mejor accuracy: 0.8957616953218711\n",
      "Train accuracy score: 0.9593\n",
      "Test accuracy score: 0.8831\n"
     ]
    }
   ],
   "source": [
    "from sklearn.model_selection import GridSearchCV\n",
    "\n",
    "grid = GridSearchCV(model_untrained, param_grid, scoring='accuracy', cv=5, n_jobs=1)\n",
    "\n",
    "grid.fit(X_train, y_train)\n",
    "\n",
    "print(\"Mejores parámetros:\", grid.best_params_)\n",
    "print(\"Mejor accuracy:\", grid.best_score_)\n",
    "\n",
    "best_model = grid.best_estimator_\n",
    "y_pred_train = best_model.predict(X_train)\n",
    "y_pred_test = best_model.predict(X_test)\n",
    "\n",
    "print('Train accuracy score: {0:0.4f}'. format(accuracy_score(y_train, y_pred_train)))\n",
    "print('Test accuracy score: {0:0.4f}'. format(accuracy_score(y_test, y_pred_test)))"
   ]
  }
 ],
 "metadata": {
  "kernelspec": {
   "display_name": "Python 3",
   "language": "python",
   "name": "python3"
  },
  "language_info": {
   "codemirror_mode": {
    "name": "ipython",
    "version": 3
   },
   "file_extension": ".py",
   "mimetype": "text/x-python",
   "name": "python",
   "nbconvert_exporter": "python",
   "pygments_lexer": "ipython3",
   "version": "3.11.9"
  }
 },
 "nbformat": 4,
 "nbformat_minor": 2
}
